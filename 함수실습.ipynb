{
  "nbformat": 4,
  "nbformat_minor": 0,
  "metadata": {
    "colab": {
      "provenance": [],
      "authorship_tag": "ABX9TyMRI+2KOsbTpkBbqxDyjx6K",
      "include_colab_link": true
    },
    "kernelspec": {
      "name": "python3",
      "display_name": "Python 3"
    },
    "language_info": {
      "name": "python"
    }
  },
  "cells": [
    {
      "cell_type": "markdown",
      "metadata": {
        "id": "view-in-github",
        "colab_type": "text"
      },
      "source": [
        "<a href=\"https://colab.research.google.com/github/chkim9910/Understandging-NLP_Practice/blob/main/%ED%95%A8%EC%88%98%EC%8B%A4%EC%8A%B5.ipynb\" target=\"_parent\"><img src=\"https://colab.research.google.com/assets/colab-badge.svg\" alt=\"Open In Colab\"/></a>"
      ]
    },
    {
      "cell_type": "code",
      "source": [
        "from google.colab import drive\n",
        "drive.mount('/content/drive')"
      ],
      "metadata": {
        "colab": {
          "base_uri": "https://localhost:8080/"
        },
        "id": "H8n8YFLgrQMH",
        "outputId": "7ddbe0a3-db8d-437f-9c72-a2dc4deaf5ef"
      },
      "execution_count": 27,
      "outputs": [
        {
          "output_type": "stream",
          "name": "stdout",
          "text": [
            "Drive already mounted at /content/drive; to attempt to forcibly remount, call drive.mount(\"/content/drive\", force_remount=True).\n"
          ]
        }
      ]
    },
    {
      "cell_type": "code",
      "source": [
        "PROJ_path = '/content/drive/MyDrive/Colab Notebooks/for_python_grammar/'\n",
        "%cd \"{PROJ_path}\"\n",
        "%pwd"
      ],
      "metadata": {
        "colab": {
          "base_uri": "https://localhost:8080/",
          "height": 54
        },
        "id": "Gr_jxcsJrwFG",
        "outputId": "b5bd8bbc-a437-4e98-f93c-169ad12ad976"
      },
      "execution_count": 28,
      "outputs": [
        {
          "output_type": "stream",
          "name": "stdout",
          "text": [
            "/content/drive/MyDrive/Colab Notebooks/for_python_grammar\n"
          ]
        },
        {
          "output_type": "execute_result",
          "data": {
            "text/plain": [
              "'/content/drive/MyDrive/Colab Notebooks/for_python_grammar'"
            ],
            "application/vnd.google.colaboratory.intrinsic+json": {
              "type": "string"
            }
          },
          "metadata": {},
          "execution_count": 28
        }
      ]
    },
    {
      "cell_type": "code",
      "source": [
        "!git config user.email \"chohyang9910@gmail.com\"\n",
        "!git config user.name \"Kim Cho Hyang\""
      ],
      "metadata": {
        "id": "5pIYhgCbsvYW"
      },
      "execution_count": 29,
      "outputs": []
    },
    {
      "cell_type": "code",
      "source": [
        "!git status"
      ],
      "metadata": {
        "colab": {
          "base_uri": "https://localhost:8080/"
        },
        "id": "k5s6MhR_r0z0",
        "outputId": "82bba83f-9908-4992-8bfe-12de09a2895d"
      },
      "execution_count": 30,
      "outputs": [
        {
          "output_type": "stream",
          "name": "stdout",
          "text": [
            "On branch main\n",
            "Your branch is up to date with 'origin/main'.\n",
            "\n",
            "Changes not staged for commit:\n",
            "  (use \"git add <file>...\" to update what will be committed)\n",
            "  (use \"git restore <file>...\" to discard changes in working directory)\n",
            "\t\u001b[31mmodified:   prac1.ipynb\u001b[m\n",
            "\n",
            "Untracked files:\n",
            "  (use \"git add <file>...\" to include in what will be committed)\n",
            "\t\u001b[31m.gitignore\u001b[m\n",
            "\t\u001b[31m\"\\341\\204\\222\\341\\205\\241\\341\\206\\267\\341\\204\\211\\341\\205\\256\\341\\204\\211\\341\\205\\265\\341\\206\\257\\341\\204\\211\\341\\205\\263\\341\\206\\270.ipynb\"\u001b[m\n",
            "\n",
            "no changes added to commit (use \"git add\" and/or \"git commit -a\")\n"
          ]
        }
      ]
    },
    {
      "cell_type": "markdown",
      "source": [
        "# 가변인수 처리"
      ],
      "metadata": {
        "id": "gs7S0Bub4ery"
      }
    },
    {
      "cell_type": "code",
      "execution_count": 31,
      "metadata": {
        "id": "KQLqVbML4Z_0"
      },
      "outputs": [],
      "source": [
        "def func1(a, *ar):\n",
        "  print(a)\n",
        "  print(ar)\n",
        "  for i in ar:\n",
        "    print('배고플 때:'+i)"
      ]
    },
    {
      "cell_type": "code",
      "source": [
        "func1('비빔밥', '김밥', '볶음밥')"
      ],
      "metadata": {
        "colab": {
          "base_uri": "https://localhost:8080/"
        },
        "id": "4GbSzn334tOL",
        "outputId": "fc4e11a3-4ada-4155-cf3a-4e6c72b4c2d7"
      },
      "execution_count": 32,
      "outputs": [
        {
          "output_type": "stream",
          "name": "stdout",
          "text": [
            "비빔밥\n",
            "('김밥', '볶음밥')\n",
            "배고플 때:김밥\n",
            "배고플 때:볶음밥\n"
          ]
        }
      ]
    },
    {
      "cell_type": "markdown",
      "source": [
        "# 딕셔너리 자료형의 매핑"
      ],
      "metadata": {
        "id": "Cdm4eOQw4yD_"
      }
    },
    {
      "cell_type": "code",
      "source": [
        "def func(w, h, **other):\n",
        "  print('몸무게: {}, 키: {}'.format(w,h))\n",
        "  print(other)"
      ],
      "metadata": {
        "id": "hXjNbN6n70-Y"
      },
      "execution_count": 33,
      "outputs": []
    },
    {
      "cell_type": "code",
      "source": [
        "func(65, 175, irum='지구인', nai='한국인')"
      ],
      "metadata": {
        "colab": {
          "base_uri": "https://localhost:8080/"
        },
        "id": "1pnHvAn085wC",
        "outputId": "83b7e20a-5096-4e37-d889-d70113bf90dd"
      },
      "execution_count": 34,
      "outputs": [
        {
          "output_type": "stream",
          "name": "stdout",
          "text": [
            "몸무게: 65, 키: 175\n",
            "{'irum': '지구인', 'nai': '한국인'}\n"
          ]
        }
      ]
    },
    {
      "cell_type": "markdown",
      "source": [
        "# 클로져(closure)"
      ],
      "metadata": {
        "id": "zCegK3dr9AyO"
      }
    },
    {
      "cell_type": "markdown",
      "source": [
        "\n",
        "\n",
        "> 분기별로 어떠한 상품 총액에 대한 세금을 다르게 적용하기\n",
        "\n",
        "\n",
        "\n"
      ],
      "metadata": {
        "id": "ZK9AyhBv9HAq"
      }
    },
    {
      "cell_type": "code",
      "source": [
        "def outer2(tax):\n",
        "  def inner2(su, dan):\n",
        "    amount = su*dan*tax #수량*단가*세금\n",
        "    return amount\n",
        "  return inner2"
      ],
      "metadata": {
        "id": "Kt7PeK7W_T7c"
      },
      "execution_count": 35,
      "outputs": []
    },
    {
      "cell_type": "code",
      "source": [
        "#1분기에는 tax 0.1 부과\n",
        "q1 = outer2(0.1)\n",
        "print('result1:', q1(5, 10000))\n",
        "print('result2:', q1(10, 20000))"
      ],
      "metadata": {
        "colab": {
          "base_uri": "https://localhost:8080/"
        },
        "id": "yeQhQDpJ_lbK",
        "outputId": "cab4fe5f-af29-4d5a-dfa2-02a4805ccc1c"
      },
      "execution_count": 36,
      "outputs": [
        {
          "output_type": "stream",
          "name": "stdout",
          "text": [
            "result1: 5000.0\n",
            "result2: 20000.0\n"
          ]
        }
      ]
    },
    {
      "cell_type": "code",
      "source": [
        "#2분기에는 tax 0.05 부과\n",
        "q2 = outer2(0.05)\n",
        "print('result1:', q2(5, 10000))\n",
        "print('result:', q2(10, 20000))"
      ],
      "metadata": {
        "colab": {
          "base_uri": "https://localhost:8080/"
        },
        "id": "GAROmqYy_5Z4",
        "outputId": "8cbe5645-2be1-4a31-cdec-4d3582a19443"
      },
      "execution_count": 37,
      "outputs": [
        {
          "output_type": "stream",
          "name": "stdout",
          "text": [
            "result1: 2500.0\n",
            "result: 10000.0\n"
          ]
        }
      ]
    },
    {
      "cell_type": "code",
      "source": [
        "!git add 함수실습.ipynb"
      ],
      "metadata": {
        "id": "AhMPjnyCAGD9"
      },
      "execution_count": 38,
      "outputs": []
    },
    {
      "cell_type": "code",
      "source": [
        "!git commit -m \"v1\""
      ],
      "metadata": {
        "colab": {
          "base_uri": "https://localhost:8080/"
        },
        "id": "BD7fRZ03sQnQ",
        "outputId": "91665dbe-0404-474b-a025-3afe651c47bd"
      },
      "execution_count": 39,
      "outputs": [
        {
          "output_type": "stream",
          "name": "stdout",
          "text": [
            "On branch main\n",
            "Your branch is up to date with 'origin/main'.\n",
            "\n",
            "Changes not staged for commit:\n",
            "  (use \"git add <file>...\" to update what will be committed)\n",
            "  (use \"git restore <file>...\" to discard changes in working directory)\n",
            "\t\u001b[31mmodified:   prac1.ipynb\u001b[m\n",
            "\n",
            "Untracked files:\n",
            "  (use \"git add <file>...\" to include in what will be committed)\n",
            "\t\u001b[31m.gitignore\u001b[m\n",
            "\t\u001b[31m\"\\341\\204\\222\\341\\205\\241\\341\\206\\267\\341\\204\\211\\341\\205\\256\\341\\204\\211\\341\\205\\265\\341\\206\\257\\341\\204\\211\\341\\205\\263\\341\\206\\270.ipynb\"\u001b[m\n",
            "\n",
            "no changes added to commit (use \"git add\" and/or \"git commit -a\")\n"
          ]
        }
      ]
    },
    {
      "cell_type": "code",
      "source": [
        "!git push origin main"
      ],
      "metadata": {
        "colab": {
          "base_uri": "https://localhost:8080/"
        },
        "id": "yMz-6M_gtbxv",
        "outputId": "c708ee8e-4bdf-4a31-8e78-f39417b72365"
      },
      "execution_count": 40,
      "outputs": [
        {
          "output_type": "stream",
          "name": "stdout",
          "text": [
            "Everything up-to-date\n"
          ]
        }
      ]
    },
    {
      "cell_type": "code",
      "source": [],
      "metadata": {
        "id": "6wiNU3e_tvLq"
      },
      "execution_count": 40,
      "outputs": []
    }
  ]
}